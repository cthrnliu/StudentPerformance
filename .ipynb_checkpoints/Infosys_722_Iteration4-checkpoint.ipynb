{
 "cells": [
  {
   "cell_type": "code",
   "execution_count": null,
   "metadata": {},
   "outputs": [],
   "source": [
    "import seaborn as sns\n",
    "import pandas as pd\n",
    "import numpy as np\n",
    "from scipy import stats\n",
    "\n",
    "#import findspark\n",
    "#findspark.init('/home/ubuntu/spark-2.1.1-bin-hadoop2.7')\n",
    "#import pyspark\n",
    "#from pyspark.sql import SparkSession\n",
    "#spark = SparkSession.builder.appName('dataManipulation').getOrCreate()"
   ]
  },
  {
   "cell_type": "code",
   "execution_count": 47,
   "metadata": {},
   "outputs": [
    {
     "name": "stdout",
     "output_type": "stream",
     "text": [
      "  school sex  age address famsize Pstatus  Medu  Fedu      Mjob      Fjob ...  \\\n",
      "0     GP   F   18       U     GT3       A     4     4   at_home   teacher ...   \n",
      "1     GP   F   17       U     GT3       T     1     1   at_home     other ...   \n",
      "2     GP   F   15       U     LE3       T     1     1   at_home     other ...   \n",
      "3     GP   F   15       U     GT3       T     4     2    health  services ...   \n",
      "4     GP   F   16       U     GT3       T     3     3     other     other ...   \n",
      "5     GP   M   16       U     LE3       T     4     3  services     other ...   \n",
      "6     GP   M   16       U     LE3       T     2     2     other     other ...   \n",
      "7     GP   F   17       U     GT3       A     4     4     other   teacher ...   \n",
      "8     GP   M   15       U     LE3       A     3     2  services     other ...   \n",
      "9     GP   M   15       U     GT3       T     3     4     other     other ...   \n",
      "\n",
      "  famrel freetime  goout  Dalc  Walc health absences  G1  G2  G3  \n",
      "0      4        3      4     1     1      3        6   5   6   6  \n",
      "1      5        3      3     1     1      3        4   5   5   6  \n",
      "2      4        3      2     2     3      3       10   7   8  10  \n",
      "3      3        2      2     1     1      5        2  15  14  15  \n",
      "4      4        3      2     1     2      5        4   6  10  10  \n",
      "5      5        4      2     1     2      5       10  15  15  15  \n",
      "6      4        4      4     1     1      3        0  12  12  11  \n",
      "7      4        1      4     1     1      1        6   6   5   6  \n",
      "8      4        2      2     1     1      1        0  16  18  19  \n",
      "9      5        5      1     1     1      5        0  14  15  15  \n",
      "\n",
      "[10 rows x 33 columns]\n",
      "(395, 33)\n"
     ]
    },
    {
     "data": {
      "text/plain": [
       "15"
      ]
     },
     "execution_count": 47,
     "metadata": {},
     "output_type": "execute_result"
    }
   ],
   "source": [
    "mat = pd.read_csv('student-mat.csv', sep = ';')\n",
    "print(mat.head(10))\n",
    "print(mat.shape)\n",
    "\n",
    "\n",
    "#matdf = spark.read.csv('student-mat.csv',sep = ';', header=True,inferSchema=True)\n",
    "\n",
    "#Here's the first row of the data.\n",
    "#print(matdf.head())\n",
    "\n",
    "# And the entire data structure. \n",
    "#matdf.printSchema()\n",
    "\n",
    "#matdf.show()\n",
    "\n",
    "#Data description\n",
    "#matdf.describe().toPandas().transpose()"
   ]
  },
  {
   "cell_type": "code",
   "execution_count": 3,
   "metadata": {},
   "outputs": [
    {
     "name": "stdout",
     "output_type": "stream",
     "text": [
      "  school sex  age address famsize Pstatus  Medu  Fedu      Mjob      Fjob ...  \\\n",
      "0     GP   F   18       U     GT3       A     4     4   at_home   teacher ...   \n",
      "1     GP   F   17       U     GT3       T     1     1   at_home     other ...   \n",
      "2     GP   F   15       U     LE3       T     1     1   at_home     other ...   \n",
      "3     GP   F   15       U     GT3       T     4     2    health  services ...   \n",
      "4     GP   F   16       U     GT3       T     3     3     other     other ...   \n",
      "5     GP   M   16       U     LE3       T     4     3  services     other ...   \n",
      "6     GP   M   16       U     LE3       T     2     2     other     other ...   \n",
      "7     GP   F   17       U     GT3       A     4     4     other   teacher ...   \n",
      "8     GP   M   15       U     LE3       A     3     2  services     other ...   \n",
      "9     GP   M   15       U     GT3       T     3     4     other     other ...   \n",
      "\n",
      "  famrel freetime  goout  Dalc  Walc health absences  G1  G2  G3  \n",
      "0      4        3      4     1     1      3        4   0  11  11  \n",
      "1      5        3      3     1     1      3        2   9  11  11  \n",
      "2      4        3      2     2     3      3        6  12  13  12  \n",
      "3      3        2      2     1     1      5        0  14  14  14  \n",
      "4      4        3      2     1     2      5        0  11  13  13  \n",
      "5      5        4      2     1     2      5        6  12  12  13  \n",
      "6      4        4      4     1     1      3        0  13  12  13  \n",
      "7      4        1      4     1     1      1        2  10  13  13  \n",
      "8      4        2      2     1     1      1        0  15  16  17  \n",
      "9      5        5      1     1     1      5        0  12  12  13  \n",
      "\n",
      "[10 rows x 33 columns]\n",
      "(649, 33)\n"
     ]
    }
   ],
   "source": [
    "port = pd.read_csv('student-por.csv', sep = ';')\n",
    "print(port.head(10))\n",
    "print(port.shape)\n",
    "#portdf = spark.read.csv('student-por.csv',sep = ';', header=True,inferSchema=True)\n"
   ]
  },
  {
   "cell_type": "code",
   "execution_count": 4,
   "metadata": {},
   "outputs": [
    {
     "name": "stdout",
     "output_type": "stream",
     "text": [
      "(1044, 33)\n"
     ]
    }
   ],
   "source": [
    "merged = mat.append(port)\n",
    "print(merged.shape)\n",
    "#mergedspark = matdf.union(portdf)\n",
    "#display(mergedspark)\n",
    "#print(mergedspark.head(5))"
   ]
  },
  {
   "cell_type": "code",
   "execution_count": 5,
   "metadata": {},
   "outputs": [
    {
     "name": "stdout",
     "output_type": "stream",
     "text": [
      "  school sex  age address famsize Pstatus  Medu  Fedu      Mjob      Fjob  \\\n",
      "0     GP   F   18       U     GT3       A     4     4   at_home   teacher   \n",
      "1     GP   F   17       U     GT3       T     1     1   at_home     other   \n",
      "2     GP   F   15       U     LE3       T     1     1   at_home     other   \n",
      "3     GP   F   15       U     GT3       T     4     2    health  services   \n",
      "4     GP   F   16       U     GT3       T     3     3     other     other   \n",
      "5     GP   M   16       U     LE3       T     4     3  services     other   \n",
      "6     GP   M   16       U     LE3       T     2     2     other     other   \n",
      "7     GP   F   17       U     GT3       A     4     4     other   teacher   \n",
      "8     GP   M   15       U     LE3       A     3     2  services     other   \n",
      "9     GP   M   15       U     GT3       T     3     4     other     other   \n",
      "\n",
      "   ...   freetime goout  Dalc  Walc  health absences  G1  G2  G3 Result  \n",
      "0  ...          3     4     1     1       3        6   5   6   6   Fail  \n",
      "1  ...          3     3     1     1       3        4   5   5   6   Fail  \n",
      "2  ...          3     2     2     3       3       10   7   8  10   Pass  \n",
      "3  ...          2     2     1     1       5        2  15  14  15   Pass  \n",
      "4  ...          3     2     1     2       5        4   6  10  10   Pass  \n",
      "5  ...          4     2     1     2       5       10  15  15  15   Pass  \n",
      "6  ...          4     4     1     1       3        0  12  12  11   Pass  \n",
      "7  ...          1     4     1     1       1        6   6   5   6   Fail  \n",
      "8  ...          2     2     1     1       1        0  16  18  19   Pass  \n",
      "9  ...          5     1     1     1       5        0  14  15  15   Pass  \n",
      "\n",
      "[10 rows x 34 columns]\n"
     ]
    }
   ],
   "source": [
    "\n",
    "merged['Result'] = np.where(merged['G3'] >= 10, 'Pass', 'Fail')\n",
    "print(merged.head(10))\n",
    "\n",
    "\n",
    "#mergedspark['Result'] = np.where(mergedspark['G3'] >= 10, 'Pass', 'Fail')\n",
    "\n"
   ]
  },
  {
   "cell_type": "code",
   "execution_count": 51,
   "metadata": {},
   "outputs": [
    {
     "name": "stdout",
     "output_type": "stream",
     "text": [
      "(array([247, 392]),)\n",
      "4.1617132467884606\n",
      "3.377046548706627\n",
      "22\n",
      "21\n"
     ]
    },
    {
     "ename": "TypeError",
     "evalue": "'str' object cannot be interpreted as an integer",
     "output_type": "error",
     "traceback": [
      "\u001b[0;31m---------------------------------------------------------------------------\u001b[0m",
      "\u001b[0;31mTypeError\u001b[0m                                 Traceback (most recent call last)",
      "\u001b[0;32m<ipython-input-51-693f085c7ee4>\u001b[0m in \u001b[0;36m<module>\u001b[0;34m()\u001b[0m\n\u001b[1;32m     15\u001b[0m \u001b[0mprint\u001b[0m \u001b[0;34m(\u001b[0m\u001b[0mmat\u001b[0m\u001b[0;34m.\u001b[0m\u001b[0mat\u001b[0m\u001b[0;34m[\u001b[0m\u001b[0;36m392\u001b[0m\u001b[0;34m,\u001b[0m \u001b[0;34m'age'\u001b[0m\u001b[0;34m]\u001b[0m\u001b[0;34m)\u001b[0m\u001b[0;34m\u001b[0m\u001b[0m\n\u001b[1;32m     16\u001b[0m \u001b[0;34m\u001b[0m\u001b[0m\n\u001b[0;32m---> 17\u001b[0;31m \u001b[0mmatcleaned\u001b[0m \u001b[0;34m=\u001b[0m \u001b[0mmat\u001b[0m\u001b[0;34m[\u001b[0m\u001b[0;34m(\u001b[0m\u001b[0mz\u001b[0m \u001b[0;34m<\u001b[0m \u001b[0;36m3\u001b[0m\u001b[0;34m)\u001b[0m\u001b[0;34m.\u001b[0m\u001b[0mall\u001b[0m\u001b[0;34m(\u001b[0m\u001b[0maxis\u001b[0m\u001b[0;34m=\u001b[0m\u001b[0;34m'age'\u001b[0m\u001b[0;34m)\u001b[0m\u001b[0;34m]\u001b[0m\u001b[0;34m\u001b[0m\u001b[0m\n\u001b[0m\u001b[1;32m     18\u001b[0m \u001b[0;31m#Check for outliers within absences\u001b[0m\u001b[0;34m\u001b[0m\u001b[0;34m\u001b[0m\u001b[0m\n\u001b[1;32m     19\u001b[0m \u001b[0my\u001b[0m \u001b[0;34m=\u001b[0m \u001b[0mnp\u001b[0m\u001b[0;34m.\u001b[0m\u001b[0mabs\u001b[0m\u001b[0;34m(\u001b[0m\u001b[0mstats\u001b[0m\u001b[0;34m.\u001b[0m\u001b[0mzscore\u001b[0m\u001b[0;34m(\u001b[0m\u001b[0mmat\u001b[0m\u001b[0;34m[\u001b[0m\u001b[0;34m'absences'\u001b[0m\u001b[0;34m]\u001b[0m\u001b[0;34m)\u001b[0m\u001b[0;34m)\u001b[0m\u001b[0;34m\u001b[0m\u001b[0m\n",
      "\u001b[0;32m~/.local/lib/python3.5/site-packages/numpy/core/_methods.py\u001b[0m in \u001b[0;36m_all\u001b[0;34m(a, axis, dtype, out, keepdims)\u001b[0m\n\u001b[1;32m     39\u001b[0m \u001b[0;34m\u001b[0m\u001b[0m\n\u001b[1;32m     40\u001b[0m \u001b[0;32mdef\u001b[0m \u001b[0m_all\u001b[0m\u001b[0;34m(\u001b[0m\u001b[0ma\u001b[0m\u001b[0;34m,\u001b[0m \u001b[0maxis\u001b[0m\u001b[0;34m=\u001b[0m\u001b[0;32mNone\u001b[0m\u001b[0;34m,\u001b[0m \u001b[0mdtype\u001b[0m\u001b[0;34m=\u001b[0m\u001b[0;32mNone\u001b[0m\u001b[0;34m,\u001b[0m \u001b[0mout\u001b[0m\u001b[0;34m=\u001b[0m\u001b[0;32mNone\u001b[0m\u001b[0;34m,\u001b[0m \u001b[0mkeepdims\u001b[0m\u001b[0;34m=\u001b[0m\u001b[0;32mFalse\u001b[0m\u001b[0;34m)\u001b[0m\u001b[0;34m:\u001b[0m\u001b[0;34m\u001b[0m\u001b[0m\n\u001b[0;32m---> 41\u001b[0;31m     \u001b[0;32mreturn\u001b[0m \u001b[0mumr_all\u001b[0m\u001b[0;34m(\u001b[0m\u001b[0ma\u001b[0m\u001b[0;34m,\u001b[0m \u001b[0maxis\u001b[0m\u001b[0;34m,\u001b[0m \u001b[0mdtype\u001b[0m\u001b[0;34m,\u001b[0m \u001b[0mout\u001b[0m\u001b[0;34m,\u001b[0m \u001b[0mkeepdims\u001b[0m\u001b[0;34m)\u001b[0m\u001b[0;34m\u001b[0m\u001b[0m\n\u001b[0m\u001b[1;32m     42\u001b[0m \u001b[0;34m\u001b[0m\u001b[0m\n\u001b[1;32m     43\u001b[0m \u001b[0;32mdef\u001b[0m \u001b[0m_count_reduce_items\u001b[0m\u001b[0;34m(\u001b[0m\u001b[0marr\u001b[0m\u001b[0;34m,\u001b[0m \u001b[0maxis\u001b[0m\u001b[0;34m)\u001b[0m\u001b[0;34m:\u001b[0m\u001b[0;34m\u001b[0m\u001b[0m\n",
      "\u001b[0;31mTypeError\u001b[0m: 'str' object cannot be interpreted as an integer"
     ]
    }
   ],
   "source": [
    "#Check for missing values\n",
    "mat.isnull().sum()\n",
    "port.isnull().sum()\n",
    "\n",
    "#Check for outliers within age\n",
    "z = np.abs(stats.zscore(mat['age']))\n",
    "\n",
    "#print(z)\n",
    "threshold = 3\n",
    "print(np.where(z > 3))\n",
    "print (z[247,])\n",
    "print (z[392,])\n",
    "\n",
    "print (mat.at[247, 'age'])\n",
    "print (mat.at[392, 'age'])\n",
    "\n",
    "matcleaned = mat[(z < 3).all(axis='age')]\n",
    "#Check for outliers within absences\n",
    "y = np.abs(stats.zscore(mat['absences']))\n",
    "\n",
    "threshold = 3\n",
    "print(np.where(y > 3))\n",
    "\n",
    "\n"
   ]
  },
  {
   "cell_type": "code",
   "execution_count": 19,
   "metadata": {},
   "outputs": [
    {
     "name": "stdout",
     "output_type": "stream",
     "text": [
      "   age  Medu  Fedu  traveltime  studytime  failures  famrel  freetime  goout  \\\n",
      "0   18     4     4           2          2         0       4         3      4   \n",
      "1   17     1     1           1          2         0       5         3      3   \n",
      "2   15     1     1           1          2         3       4         3      2   \n",
      "3   15     4     2           1          3         0       3         2      2   \n",
      "4   16     3     3           1          2         0       4         3      2   \n",
      "5   16     4     3           1          2         0       5         4      2   \n",
      "6   16     2     2           1          2         0       4         4      4   \n",
      "7   17     4     4           2          2         0       4         1      4   \n",
      "8   15     3     2           1          2         0       4         2      2   \n",
      "9   15     3     4           1          2         0       5         5      1   \n",
      "\n",
      "   Dalc  Walc  health  absences  G1  G2  G3  \n",
      "0     1     1       3         6   5   6   6  \n",
      "1     1     1       3         4   5   5   6  \n",
      "2     2     3       3        10   7   8  10  \n",
      "3     1     1       5         2  15  14  15  \n",
      "4     1     2       5         4   6  10  10  \n",
      "5     1     2       5        10  15  15  15  \n",
      "6     1     1       3         0  12  12  11  \n",
      "7     1     1       1         6   6   5   6  \n",
      "8     1     1       1         0  16  18  19  \n",
      "9     1     1       5         0  14  15  15  \n"
     ]
    }
   ],
   "source": []
  },
  {
   "cell_type": "code",
   "execution_count": null,
   "metadata": {},
   "outputs": [],
   "source": []
  }
 ],
 "metadata": {
  "kernelspec": {
   "display_name": "Python 3",
   "language": "python",
   "name": "python3"
  },
  "language_info": {
   "codemirror_mode": {
    "name": "ipython",
    "version": 3
   },
   "file_extension": ".py",
   "mimetype": "text/x-python",
   "name": "python",
   "nbconvert_exporter": "python",
   "pygments_lexer": "ipython3",
   "version": "3.5.2"
  }
 },
 "nbformat": 4,
 "nbformat_minor": 2
}
